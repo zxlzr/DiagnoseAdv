{
 "cells": [
  {
   "cell_type": "markdown",
   "metadata": {},
   "source": [
    "## Start the server\n",
    "Start the server by typing **'cd server && python analyse_server.py'** in your shell."
   ]
  },
  {
   "cell_type": "code",
   "execution_count": 1,
   "metadata": {},
   "outputs": [],
   "source": [
    "import requests\n",
    "import json\n",
    "from config import PORT"
   ]
  },
  {
   "cell_type": "code",
   "execution_count": 2,
   "metadata": {},
   "outputs": [],
   "source": [
    "sample = {\"token\": [\"Tom\", \"Thabane\", \"resigned\", \"in\", \"October\", \"last\", \"year\", \"to\", \"form\", \"the\", \"All\", \"Basotho\", \"Convention\", \"-LRB-\", \"ABC\", \"-RRB-\", \",\", \"crossing\", \"the\", \"floor\", \"with\", \"17\", \"members\", \"of\", \"parliament\",\n",
    "                    \",\", \"causing\", \"constitutional\", \"monarch\", \"King\", \"Letsie\", \"III\", \"to\", \"dissolve\", \"parliament\", \"and\", \"call\", \"the\", \"snap\", \"election\", \".\"],\n",
    "          \"h\": {\"pos\": [10, 13]}, \"t\": {\"pos\": [0, 2]}, \"relation\": \"org:founded_by\"}\n"
   ]
  },
  {
   "cell_type": "markdown",
   "metadata": {},
   "source": [
    "## Get saliency of a sample through POST"
   ]
  },
  {
   "cell_type": "code",
   "execution_count": 3,
   "metadata": {},
   "outputs": [
    {
     "name": "stdout",
     "output_type": "stream",
     "text": [
      "dict_keys(['status', 'pred_label', 'confidence', 'token_saliency', 'word_saliency'])\n",
      "dict_keys(['status', 'pred_label', 'confidence', 'token_saliency', 'word_saliency'])\n",
      "dict_keys(['status', 'pred_label', 'confidence', 'token_saliency', 'word_saliency'])\n"
     ]
    }
   ],
   "source": [
    "for method in ['gradient', 'gradient_x_input', 'integrated_gradient']:\n",
    "    r = requests.post('http://localhost:{}/saliency'.format(PORT),\n",
    "                      data=json.dumps({'dataset': 'tacred',\n",
    "                                       'model': 'bert',\n",
    "                                       'method': method,\n",
    "                                       'sample': sample,\n",
    "                                       'unsupervised': False}))\n",
    "    data = json.loads(r.text)\n",
    "    print(data.keys())"
   ]
  },
  {
   "cell_type": "markdown",
   "metadata": {},
   "source": [
    "## Generate adversary samples through POST"
   ]
  },
  {
   "cell_type": "code",
   "execution_count": 4,
   "metadata": {},
   "outputs": [
    {
     "name": "stdout",
     "output_type": "stream",
     "text": [
      "dict_keys(['status', 'adversary_samples', 'predictions'])\n",
      "dict_keys(['status', 'adversary_samples', 'predictions'])\n",
      "dict_keys(['status', 'adversary_samples', 'predictions'])\n",
      "dict_keys(['status', 'adversary_samples', 'predictions'])\n"
     ]
    }
   ],
   "source": [
    "for method in ['pwws', 'textfooler', 'hotflip', 'generic']:\n",
    "    r = requests.post('http://localhost:{}/adversary'.format(PORT),\n",
    "                      data=json.dumps({'dataset': 'tacred',\n",
    "                                       'model': 'bert',\n",
    "                                       'method': method,\n",
    "                                       'sample': sample,\n",
    "                                       'invoke_limit': 700}))\n",
    "    data = json.loads(r.text)\n",
    "    print(data.keys())"
   ]
  },
  {
   "cell_type": "markdown",
   "metadata": {},
   "source": [
    "## More features are coming..."
   ]
  },
  {
   "cell_type": "code",
   "execution_count": null,
   "metadata": {},
   "outputs": [],
   "source": []
  }
 ],
 "metadata": {
  "kernelspec": {
   "display_name": "Python 3",
   "language": "python",
   "name": "python3"
  },
  "language_info": {
   "codemirror_mode": {
    "name": "ipython",
    "version": 3
   },
   "file_extension": ".py",
   "mimetype": "text/x-python",
   "name": "python",
   "nbconvert_exporter": "python",
   "pygments_lexer": "ipython3",
   "version": "3.6.10"
  }
 },
 "nbformat": 4,
 "nbformat_minor": 4
}
